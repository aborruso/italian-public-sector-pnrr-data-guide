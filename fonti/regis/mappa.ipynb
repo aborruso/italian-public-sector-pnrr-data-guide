{
  "cells": [
    {
      "cell_type": "raw",
      "metadata": {},
      "source": [
        "---\n",
        "title: \"Mappe ReGiS\"\n",
        "subtitle: \"Per esplorare i dati di dettaglio del PNRR di Italiadomani\"\n",
        "description-meta: \"Mappe ReGiS, per esplorare geograficamente i dati di dettaglio del PNRR pubblicati su Italiadomani\"\n",
        "website:\n",
        "  twitter-card:\n",
        "    description: \"Mappe ReGiS, per esplorare geograficamente i dati di dettaglio del PNRR pubblicati su Italiadomani\"\n",
        "    image: \"mappa-dati-regis-guenter-richter.png\"\n",
        "  open-graph:\n",
        "    description: \"Mappe ReGiS, per esplorare geograficamente i dati di dettaglio del PNRR pubblicati su Italiadomani\"\n",
        "    image: \"mappa-dati-regis-guenter-richter.png\"\n",
        "resources:\n",
        "  - \"mappa-dati-regis-guenter-richter.png\"\n",
        "format:\n",
        "  html:\n",
        "    tbl-cap-location: bottom\n",
        "    toc: true\n",
        "    toc-depth: 4\n",
        "    toc-expand: true\n",
        "---"
      ],
      "id": "d8b9fbf5"
    },
    {
      "cell_type": "markdown",
      "metadata": {},
      "source": [
        "I dati di dettaglio sul Piano Nazionale di Ripresa e Resilienza da [**fonte ReGiS**](index.qmd) - pubblicati a metà aprile 2023 - contengono le informazioni di [localizzazione](index.qmd#universo-regis---localizzazione-del-pnrr) dei progetti.\n",
        "\n",
        "Questi i numeri per i dati \"Universo ReGiS\":\n",
        "\n",
        "::: aside\n",
        "I dataset **Universo** fanno riferimento a tutti i progetti su ReGiS alla data di estrazione, indipendentemente dall'essere stati sottoposti o meno al **processo di validazione**.\n",
        ":::\n",
        "\n",
        "- 164.482 record;\n",
        "- 128.950 codici CUP;\n",
        "- 20 regioni;\n",
        "- 107 province;\n",
        "- 7.916 Comuni (sono più degli attuali 7.901, perché probabilmente tiene conto delle variazioni dei Comuni da inizio PNRR);\n",
        "- 1.950 record in cui è presente anche l'indirizzo.\n",
        "\n",
        "\n",
        "A partire da questi dati **Guenter Richter** ha creato una [**mappa interattiva**](https://gjrichter.github.io/pages/PNRR/index_embed_Open_Data_PNRR_Dati_Universo_REGIS_IV_nazionale_5050.html) per **esplorare geograficamente** i dati di dettaglio del PNRR pubblicati su **Italiadomani**.\n",
        "\n",
        "::: {.callout-note}\n",
        "## Non è ottimizzata per la visualizzazione da *smartphone*\n",
        "Ti consigliamo di visualizzarla da *personal computer*.\n",
        ":::\n",
        "\n",
        "[![Mappa dei dati di localizzazione dei progetti PNRR](images/mappa-regis-03.png){fig-alt=\"Mappe ReGiS, per esplorare geograficamente i dati di dettaglio del PNRR pubblicati su Italiadomani\" #fig-map-regis}](https://gjrichter.github.io/pages/PNRR/index_embed_Open_Data_PNRR_Dati_Universo_REGIS_IV_nazionale_5050.html)\n",
        "\n",
        "Ci sono 4 sezioni principali di [interfaccia](#fig-map-regis):\n",
        "\n",
        "1. quella dedicata alla mappa, in cui **spostarla** facendo *click* e trascinandola, oppure fare **zoom avanti** e **indietro** con la rotellina del *mouse*;\n",
        "2. quella con il riepilogo dei **conteggi** sulle **6 Missioni** del PNRR;\n",
        "3. quella con i **conteggi** del **numero** di **progetti visibili in mappa** e il loro **valore complessivo** in euro;\n",
        "4. quella che contiene, scorrendola, numerosi **filtri** (per Regione, Provincia, Missione, Submisura, ecc.) e **conteggi correlati**, è uno strumento per **condividere** la **mappa** che è stata creata.\n",
        "\n",
        "In @fig-map-regis-animata è possibile vedere un'animazione del funzionamento di base della mappa: al cambio di visualizzazione geografica cambiano i conteggi (sono sempre aggiornati a ciò che si vede in mappa), e al *click* su uno dei filtri disponibili sulla destra viene estratto un sotto insieme dei dati.\n",
        "\n",
        ":::{.column-page}\n",
        "![Esempio di utilizzo della mappa](images/mappe-regis.gif){fig-alt=\"GIF animata che mostra come funziona la mappa ReGiS\" #fig-map-regis-animata}\n",
        ":::\n",
        "\n",
        "## Condividere la visualizzazione della mappa che hai creato\n",
        "\n",
        "Se vuoi condividere una mappa, con una serie di filtri applicati, centrata su una parte di tuo interesse, puoi farlo in questo modo:\n",
        "\n",
        "1. scorri verso il basso l'area laterale destra che contiene i filtri, utilizzando la *scroll-bar* dedicata;\n",
        "2. fai click su `link` in \"Crea link condivisibile\".\n",
        "\n",
        "![Creare link per condividere una vista personalizzata](images/mappa-regis-crea-link.png){fig-alt=\"Mappa ReGiS come condividere una visualizzazione personalizzata\" #fig-map-regis-condividi}\n",
        "\n",
        "[Questo](https://gjrichter.github.io/pages/PNRR/index_embed_Open_Data_PNRR_Dati_Universo_REGIS_IV_nazionale_5050.html?filter=WHERE%20%22Descrizione%20Regione%22%20=%20%22CALABRIA%22%20AND%20%22missione%22%20=%20%22M2%22&view=[39.07677595221322,16.707458496093754],8) ad esempio il *link* a una mappa con i soli **progetti** della **Missione 2** \"Rivoluzione verde e transizione ecologica\", localizzati in **Calabria**.\n",
        "\n",
        "## Costruire filtri di visualizzazione \"a mano\"\n",
        "\n",
        "L'URL di base della mappa è questo:\n"
      ],
      "id": "267f6823"
    },
    {
      "cell_type": "code",
      "metadata": {},
      "source": [
        "https://gjrichter.github.io/pages/PNRR/index_embed_Open_Data_PNRR_Dati_Universo_REGIS.html"
      ],
      "id": "f2441f6b",
      "execution_count": null,
      "outputs": []
    }
  ],
  "metadata": {
    "kernelspec": {
      "name": "bash",
      "language": "bash",
      "display_name": "Bash"
    }
  },
  "nbformat": 4,
  "nbformat_minor": 5
}